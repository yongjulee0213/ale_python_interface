{
  "nbformat": 4,
  "nbformat_minor": 0,
  "metadata": {
    "colab": {
      "provenance": [],
      "authorship_tag": "ABX9TyNIxgGfI7mNK8F61qFJg982",
      "include_colab_link": true
    },
    "kernelspec": {
      "name": "python3",
      "display_name": "Python 3"
    },
    "language_info": {
      "name": "python"
    }
  },
  "cells": [
    {
      "cell_type": "markdown",
      "metadata": {
        "id": "view-in-github",
        "colab_type": "text"
      },
      "source": [
        "<a href=\"https://colab.research.google.com/github/yongjulee0213/ale_python_interface/blob/master/sarcasm_tokenizing.ipynb\" target=\"_parent\"><img src=\"https://colab.research.google.com/assets/colab-badge.svg\" alt=\"Open In Colab\"/></a>"
      ]
    },
    {
      "cell_type": "code",
      "source": [
        "#sarasm dataset"
      ],
      "metadata": {
        "id": "nNcx1Uz6YTrA"
      },
      "execution_count": null,
      "outputs": []
    },
    {
      "cell_type": "code",
      "execution_count": 46,
      "metadata": {
        "id": "v1F8YjoiX5Wf"
      },
      "outputs": [],
      "source": [
        "import json\n",
        "import tensorflow as tf\n",
        "from tensorflow.keras.preprocessing.text import Tokenizer\n",
        "from tensorflow.keras.preprocessing.sequence import pad_sequences\n",
        "import numpy as np"
      ]
    },
    {
      "cell_type": "code",
      "source": [
        "#hyperparameters\n",
        "training_size=20000\n",
        "vocab_size=10000\n",
        "embedding_dim=16\n",
        "max_length=32\n",
        "trunc_type='post'\n",
        "padding_type='post'\n",
        "oov_tok='<OOV>'"
      ],
      "metadata": {
        "id": "NWrMZq2HYljK"
      },
      "execution_count": 74,
      "outputs": []
    },
    {
      "cell_type": "code",
      "source": [
        "|!wget https://storage.googleapis.com/tensorflow-1-public/course3/sarcasm.json"
      ],
      "metadata": {
        "colab": {
          "base_uri": "https://localhost:8080/"
        },
        "id": "s_IwfcG_aPga",
        "outputId": "60dd14ae-5236-454e-ad33-337ff30c9714"
      },
      "execution_count": 6,
      "outputs": [
        {
          "output_type": "stream",
          "name": "stdout",
          "text": [
            "--2022-10-05 04:32:02--  https://storage.googleapis.com/tensorflow-1-public/course3/sarcasm.json\n",
            "Resolving storage.googleapis.com (storage.googleapis.com)... 173.194.69.128, 108.177.119.128, 108.177.126.128, ...\n",
            "Connecting to storage.googleapis.com (storage.googleapis.com)|173.194.69.128|:443... connected.\n",
            "HTTP request sent, awaiting response... 200 OK\n",
            "Length: 5643545 (5.4M) [application/json]\n",
            "Saving to: ‘sarcasm.json’\n",
            "\n",
            "\rsarcasm.json          0%[                    ]       0  --.-KB/s               \rsarcasm.json        100%[===================>]   5.38M  --.-KB/s    in 0.03s   \n",
            "\n",
            "2022-10-05 04:32:02 (155 MB/s) - ‘sarcasm.json’ saved [5643545/5643545]\n",
            "\n"
          ]
        }
      ]
    },
    {
      "cell_type": "code",
      "source": [
        "#데이터 다운로드해서 열기\n",
        "with open(\"/content/sarcasm.json\",'r') as f:\n",
        "  datastore=json.load(f)\n",
        "\n",
        "sentences=[]\n",
        "labels=[]\n",
        "\n",
        "print(datastore)\n"
      ],
      "metadata": {
        "colab": {
          "base_uri": "https://localhost:8080/"
        },
        "id": "jzQvG1q6ZL3I",
        "outputId": "c39c8126-1cb7-4f30-9e16-4d15de2f7d9a"
      },
      "execution_count": 24,
      "outputs": [
        {
          "output_type": "stream",
          "name": "stderr",
          "text": [
            "IOPub data rate exceeded.\n",
            "The notebook server will temporarily stop sending output\n",
            "to the client in order to avoid crashing it.\n",
            "To change this limit, set the config variable\n",
            "`--NotebookApp.iopub_data_rate_limit`.\n",
            "\n",
            "Current values:\n",
            "NotebookApp.iopub_data_rate_limit=1000000.0 (bytes/sec)\n",
            "NotebookApp.rate_limit_window=3.0 (secs)\n",
            "\n"
          ]
        }
      ]
    },
    {
      "cell_type": "code",
      "source": [
        "for item in datastore:\n",
        "  sentences.append(item['headline'])\n",
        "  labels.append(item['is_sarcastic'])"
      ],
      "metadata": {
        "id": "EgBteJU1aFX6"
      },
      "execution_count": 25,
      "outputs": []
    },
    {
      "cell_type": "code",
      "source": [
        "training_sentences=sentences[0:training_size]\n",
        "testing_sentences=sentences[training_size:]\n",
        "training_labels=labels[0:training_size]\n",
        "testing_labels=labels[training_size:]"
      ],
      "metadata": {
        "id": "5CVcLyvYar7x"
      },
      "execution_count": 26,
      "outputs": []
    },
    {
      "cell_type": "code",
      "source": [
        "tokenizer=Tokenizer(num_words=vocab_size, oov_token=oov_tok)\n",
        "tokenizer.fit_on_texts(training_sentences)\n",
        "training_sequences=tokenizer.texts_to_sequences(training_sentences)\n",
        "word_index=tokenizer.word_index\n",
        "training_padded=pad_sequences(training_sequences,maxlen=max_length,padding=padding_type,truncating=trunc_type)\n",
        "\n",
        "testing_sequences=tokenizer.texts_to_sequences(testing_sentences)\n",
        "testing_padded=pad_sequences(testing_sequences, maxlen=max_length,padding=padding_type, truncating=trunc_type)\n",
        "\n",
        "#convert the lables lists into numpy array for valid data type for model.fit()\n",
        "training_labels=np.array(training_labels)\n",
        "testing_labels=np.array(testing_labels)"
      ],
      "metadata": {
        "id": "FMyrMH2wa6m4"
      },
      "execution_count": 47,
      "outputs": []
    },
    {
      "cell_type": "code",
      "source": [],
      "metadata": {
        "id": "fFmSFMjfgwFN"
      },
      "execution_count": null,
      "outputs": []
    },
    {
      "cell_type": "code",
      "source": [
        "# Build the model\n",
        "model = tf.keras.Sequential([\n",
        "    tf.keras.layers.Embedding(vocab_size, embedding_dim, input_length=max_length),\n",
        "    tf.keras.layers.GlobalAveragePooling1D(),\n",
        "    tf.keras.layers.Dense(24, activation='relu'),\n",
        "    tf.keras.layers.Dense(1, activation='sigmoid')\n",
        "])\n",
        "\n",
        "# Print the model summary\n",
        "model.summary()\n",
        "model.compile(loss='binary_crossentropy',optimizer='adam',metrics=['accuracy'])"
      ],
      "metadata": {
        "colab": {
          "base_uri": "https://localhost:8080/"
        },
        "id": "lP9ByPeEbuAW",
        "outputId": "314f50b3-656b-490f-d4b1-b57a1ade686e"
      },
      "execution_count": 36,
      "outputs": [
        {
          "output_type": "stream",
          "name": "stdout",
          "text": [
            "Model: \"sequential_4\"\n",
            "_________________________________________________________________\n",
            " Layer (type)                Output Shape              Param #   \n",
            "=================================================================\n",
            " embedding_4 (Embedding)     (None, 32, 16)            16000     \n",
            "                                                                 \n",
            " global_average_pooling1d_4   (None, 16)               0         \n",
            " (GlobalAveragePooling1D)                                        \n",
            "                                                                 \n",
            " dense_8 (Dense)             (None, 24)                408       \n",
            "                                                                 \n",
            " dense_9 (Dense)             (None, 1)                 25        \n",
            "                                                                 \n",
            "=================================================================\n",
            "Total params: 16,433\n",
            "Trainable params: 16,433\n",
            "Non-trainable params: 0\n",
            "_________________________________________________________________\n"
          ]
        }
      ]
    },
    {
      "cell_type": "code",
      "source": [
        "model.summary()"
      ],
      "metadata": {
        "colab": {
          "base_uri": "https://localhost:8080/"
        },
        "id": "Thxc01NwcixZ",
        "outputId": "885b5cc3-50ea-4de1-b9b5-ba5ab74645bb"
      },
      "execution_count": 37,
      "outputs": [
        {
          "output_type": "stream",
          "name": "stdout",
          "text": [
            "Model: \"sequential_4\"\n",
            "_________________________________________________________________\n",
            " Layer (type)                Output Shape              Param #   \n",
            "=================================================================\n",
            " embedding_4 (Embedding)     (None, 32, 16)            16000     \n",
            "                                                                 \n",
            " global_average_pooling1d_4   (None, 16)               0         \n",
            " (GlobalAveragePooling1D)                                        \n",
            "                                                                 \n",
            " dense_8 (Dense)             (None, 24)                408       \n",
            "                                                                 \n",
            " dense_9 (Dense)             (None, 1)                 25        \n",
            "                                                                 \n",
            "=================================================================\n",
            "Total params: 16,433\n",
            "Trainable params: 16,433\n",
            "Non-trainable params: 0\n",
            "_________________________________________________________________\n"
          ]
        }
      ]
    },
    {
      "cell_type": "code",
      "source": [
        "num_epochs = 30\n",
        "\n",
        "# Train the model\n",
        "history = model.fit(training_padded, training_labels, epochs=num_epochs, validation_data=(testing_padded, testing_labels), verbose=2)"
      ],
      "metadata": {
        "colab": {
          "base_uri": "https://localhost:8080/"
        },
        "id": "FJKscswjcnaH",
        "outputId": "8db05077-abaf-46bf-af73-0e5b34ebdf2d"
      },
      "execution_count": 75,
      "outputs": [
        {
          "output_type": "stream",
          "name": "stdout",
          "text": [
            "Epoch 1/30\n",
            "625/625 - 1s - loss: 0.0838 - accuracy: 0.9692 - val_loss: 1.7808 - val_accuracy: 0.7776 - 969ms/epoch - 2ms/step\n",
            "Epoch 2/30\n",
            "625/625 - 1s - loss: 0.0850 - accuracy: 0.9687 - val_loss: 1.7489 - val_accuracy: 0.7776 - 805ms/epoch - 1ms/step\n",
            "Epoch 3/30\n",
            "625/625 - 1s - loss: 0.0836 - accuracy: 0.9686 - val_loss: 1.7476 - val_accuracy: 0.7755 - 769ms/epoch - 1ms/step\n",
            "Epoch 4/30\n",
            "625/625 - 1s - loss: 0.0832 - accuracy: 0.9692 - val_loss: 1.7822 - val_accuracy: 0.7734 - 766ms/epoch - 1ms/step\n",
            "Epoch 5/30\n",
            "625/625 - 1s - loss: 0.0832 - accuracy: 0.9696 - val_loss: 1.7992 - val_accuracy: 0.7749 - 920ms/epoch - 1ms/step\n",
            "Epoch 6/30\n",
            "625/625 - 1s - loss: 0.0824 - accuracy: 0.9699 - val_loss: 1.7751 - val_accuracy: 0.7734 - 782ms/epoch - 1ms/step\n",
            "Epoch 7/30\n",
            "625/625 - 1s - loss: 0.0822 - accuracy: 0.9693 - val_loss: 1.8072 - val_accuracy: 0.7719 - 912ms/epoch - 1ms/step\n",
            "Epoch 8/30\n",
            "625/625 - 1s - loss: 0.0820 - accuracy: 0.9689 - val_loss: 1.8093 - val_accuracy: 0.7769 - 739ms/epoch - 1ms/step\n",
            "Epoch 9/30\n",
            "625/625 - 1s - loss: 0.0817 - accuracy: 0.9693 - val_loss: 1.7686 - val_accuracy: 0.7739 - 772ms/epoch - 1ms/step\n",
            "Epoch 10/30\n",
            "625/625 - 1s - loss: 0.0803 - accuracy: 0.9704 - val_loss: 1.8469 - val_accuracy: 0.7737 - 898ms/epoch - 1ms/step\n",
            "Epoch 11/30\n",
            "625/625 - 1s - loss: 0.0793 - accuracy: 0.9700 - val_loss: 1.7723 - val_accuracy: 0.7687 - 887ms/epoch - 1ms/step\n",
            "Epoch 12/30\n",
            "625/625 - 1s - loss: 0.0799 - accuracy: 0.9697 - val_loss: 1.8534 - val_accuracy: 0.7766 - 896ms/epoch - 1ms/step\n",
            "Epoch 13/30\n",
            "625/625 - 1s - loss: 0.0792 - accuracy: 0.9711 - val_loss: 1.8551 - val_accuracy: 0.7776 - 898ms/epoch - 1ms/step\n",
            "Epoch 14/30\n",
            "625/625 - 1s - loss: 0.0787 - accuracy: 0.9703 - val_loss: 1.8652 - val_accuracy: 0.7709 - 771ms/epoch - 1ms/step\n",
            "Epoch 15/30\n",
            "625/625 - 1s - loss: 0.0789 - accuracy: 0.9704 - val_loss: 1.8492 - val_accuracy: 0.7775 - 763ms/epoch - 1ms/step\n",
            "Epoch 16/30\n",
            "625/625 - 1s - loss: 0.0783 - accuracy: 0.9717 - val_loss: 1.8805 - val_accuracy: 0.7752 - 758ms/epoch - 1ms/step\n",
            "Epoch 17/30\n",
            "625/625 - 1s - loss: 0.0781 - accuracy: 0.9706 - val_loss: 1.8769 - val_accuracy: 0.7745 - 925ms/epoch - 1ms/step\n",
            "Epoch 18/30\n",
            "625/625 - 1s - loss: 0.0767 - accuracy: 0.9704 - val_loss: 1.9022 - val_accuracy: 0.7702 - 801ms/epoch - 1ms/step\n",
            "Epoch 19/30\n",
            "625/625 - 1s - loss: 0.0768 - accuracy: 0.9710 - val_loss: 1.9141 - val_accuracy: 0.7736 - 887ms/epoch - 1ms/step\n",
            "Epoch 20/30\n",
            "625/625 - 1s - loss: 0.0768 - accuracy: 0.9711 - val_loss: 1.8841 - val_accuracy: 0.7728 - 748ms/epoch - 1ms/step\n",
            "Epoch 21/30\n",
            "625/625 - 1s - loss: 0.0761 - accuracy: 0.9715 - val_loss: 1.8986 - val_accuracy: 0.7739 - 888ms/epoch - 1ms/step\n",
            "Epoch 22/30\n",
            "625/625 - 1s - loss: 0.0749 - accuracy: 0.9730 - val_loss: 1.9221 - val_accuracy: 0.7731 - 902ms/epoch - 1ms/step\n",
            "Epoch 23/30\n",
            "625/625 - 1s - loss: 0.0746 - accuracy: 0.9726 - val_loss: 1.9325 - val_accuracy: 0.7734 - 729ms/epoch - 1ms/step\n",
            "Epoch 24/30\n",
            "625/625 - 1s - loss: 0.0745 - accuracy: 0.9729 - val_loss: 1.9259 - val_accuracy: 0.7715 - 922ms/epoch - 1ms/step\n",
            "Epoch 25/30\n",
            "625/625 - 1s - loss: 0.0744 - accuracy: 0.9719 - val_loss: 1.9911 - val_accuracy: 0.7718 - 904ms/epoch - 1ms/step\n",
            "Epoch 26/30\n",
            "625/625 - 1s - loss: 0.0745 - accuracy: 0.9722 - val_loss: 1.9747 - val_accuracy: 0.7697 - 761ms/epoch - 1ms/step\n",
            "Epoch 27/30\n",
            "625/625 - 1s - loss: 0.0741 - accuracy: 0.9723 - val_loss: 1.9767 - val_accuracy: 0.7763 - 743ms/epoch - 1ms/step\n",
            "Epoch 28/30\n",
            "625/625 - 1s - loss: 0.0720 - accuracy: 0.9750 - val_loss: 1.9965 - val_accuracy: 0.7696 - 762ms/epoch - 1ms/step\n",
            "Epoch 29/30\n",
            "625/625 - 1s - loss: 0.0727 - accuracy: 0.9725 - val_loss: 1.9920 - val_accuracy: 0.7690 - 916ms/epoch - 1ms/step\n",
            "Epoch 30/30\n",
            "625/625 - 1s - loss: 0.0715 - accuracy: 0.9735 - val_loss: 2.0337 - val_accuracy: 0.7742 - 782ms/epoch - 1ms/step\n"
          ]
        }
      ]
    },
    {
      "cell_type": "code",
      "source": [
        "#plot the result\n",
        "import matplotlib.pyplot as plt\n",
        "\n",
        "def plot_graphs(history,string):\n",
        "  plt.plot(history.history[string])\n",
        "  plt.plot(history.history['val_'+string])\n",
        "  plt.xlabel(\"epochs\")\n",
        "  plt.ylabel(string)\n",
        "  plt.legend([string,'val_'+string])\n",
        "  plt.show()\n",
        "\n",
        "plot_graphs(history,'accuracy')\n",
        "plot_graphs(history,'loss')"
      ],
      "metadata": {
        "colab": {
          "base_uri": "https://localhost:8080/",
          "height": 541
        },
        "id": "zzko9Kocc0WI",
        "outputId": "adaddf33-ba21-4aa6-c317-6a27ac7faf0b"
      },
      "execution_count": 76,
      "outputs": [
        {
          "output_type": "display_data",
          "data": {
            "text/plain": [
              "<Figure size 432x288 with 1 Axes>"
            ],
            "image/png": "[encoded data removed]"
          },
          "metadata": {
            "needs_background": "light"
          }
        },
        {
          "output_type": "display_data",
          "data": {
            "text/plain": [
              "<Figure size 432x288 with 1 Axes>"
            ],
            "image/png": "[encoded data removed]"
          },
          "metadata": {
            "needs_background": "light"
          }
        }
      ]
    },
    {
      "cell_type": "code",
      "source": [],
      "metadata": {
        "id": "TK6PumraiBTU"
      },
      "execution_count": null,
      "outputs": []
    }
  ]
}